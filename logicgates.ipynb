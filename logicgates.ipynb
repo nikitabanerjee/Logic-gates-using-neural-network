{
 "cells": [
  {
   "cell_type": "code",
   "execution_count": 1,
   "metadata": {},
   "outputs": [],
   "source": [
    "import numpy as np \n",
    "from matplotlib import pyplot as plt\n",
    "import random"
   ]
  },
  {
   "cell_type": "markdown",
   "metadata": {},
   "source": [
    "# And gate"
   ]
  },
  {
   "cell_type": "code",
   "execution_count": 2,
   "metadata": {},
   "outputs": [],
   "source": [
    "X = np.array([[0, 0], [0, 1], [1, 0], [1, 1]])\n",
    "Y = np.array([[0], [0], [0], [1]])"
   ]
  },
  {
   "cell_type": "code",
   "execution_count": 3,
   "metadata": {},
   "outputs": [
    {
     "name": "stdout",
     "output_type": "stream",
     "text": [
      "(4, 2)\n",
      "(4, 1)\n"
     ]
    }
   ],
   "source": [
    "print(X.shape)\n",
    "print(Y.shape)"
   ]
  },
  {
   "cell_type": "code",
   "execution_count": 4,
   "metadata": {},
   "outputs": [],
   "source": [
    "W = np.random.randn(2,1)\n",
    "B = np.random.randn(1,1)"
   ]
  },
  {
   "cell_type": "code",
   "execution_count": 5,
   "metadata": {},
   "outputs": [],
   "source": [
    "#import activation fuction\n",
    "def sigmoid(h):\n",
    " return 1/(1+np.exp(-h))"
   ]
  },
  {
   "cell_type": "code",
   "execution_count": 6,
   "metadata": {},
   "outputs": [],
   "source": [
    "#backpropagation\n",
    "def sigmoid_der(h):\n",
    "    return h*(1-h)"
   ]
  },
  {
   "cell_type": "code",
   "execution_count": 7,
   "metadata": {},
   "outputs": [
    {
     "name": "stdout",
     "output_type": "stream",
     "text": [
      "[[8.46314989e-04]\n",
      " [8.14490768e-02]\n",
      " [8.14491364e-02]\n",
      " [9.02747691e-01]]\n",
      "[[0.]\n",
      " [0.]\n",
      " [0.]\n",
      " [1.]]\n",
      "[[-0.52273243 -0.43821458 -0.37636818 ... -0.00085253 -0.00084941\n",
      "  -0.00084631]\n",
      " [-0.49580358 -0.39594387 -0.33628656 ... -0.08163016 -0.08153948\n",
      "  -0.08144908]\n",
      " [-0.73743363 -0.64753465 -0.57386489 ... -0.08163023 -0.08153954\n",
      "  -0.08144914]\n",
      " [ 0.28396182  0.39311513  0.46935272 ...  0.09747085  0.09736141\n",
      "   0.09725231]]\n"
     ]
    }
   ],
   "source": [
    "#forward propagation\n",
    "epoch=0\n",
    "loop=500\n",
    "all_error=np.zeros(shape=(4,loop),dtype=np.float64)\n",
    "all_error_avg=np.zeros(shape=(1,loop),dtype=np.float64)\n",
    "all_epoch=np.zeros(shape=(1,loop),dtype=np.float64)\n",
    "while(epoch<loop):\n",
    "    \n",
    "    a1=X\n",
    "    z2=np.dot(a1,W)+B\n",
    "    a2=sigmoid(z2)\n",
    "    #update weight and bias\n",
    "    error=Y-a2\n",
    "    all_error[:,epoch] += error[:,0]\n",
    "    all_error_avg[0,epoch]=np.sum(all_error[:,epoch])/4\n",
    "    epoch += 1\n",
    "    all_epoch[0,epoch-1]=epoch\n",
    "    delta_output=error*sigmoid_der(a2)\n",
    "    update=np.dot(np.transpose(a1),delta_output)\n",
    "    W=W+update\n",
    "    B=B+sum(delta_output)\n",
    "print(a2)\n",
    "prediction=(a2>0.5)*1.0\n",
    "print(prediction)\n",
    "print(all_error)"
   ]
  },
  {
   "cell_type": "code",
   "execution_count": 8,
   "metadata": {},
   "outputs": [
    {
     "data": {
      "image/png": "[encoded data removed]",
      "text/plain": [
       "<Figure size 432x288 with 1 Axes>"
      ]
     },
     "metadata": {
      "needs_background": "light"
     },
     "output_type": "display_data"
    }
   ],
   "source": [
    "\n",
    "plt.figure() \n",
    "plt.plot(all_epoch[0,:],all_error_avg[0,:]) \n",
    "plt.xlabel(\"EPOCHS\") \n",
    "plt.ylabel(\"error\") \n",
    "plt.show() "
   ]
  },
  {
   "cell_type": "markdown",
   "metadata": {},
   "source": [
    "# OR GATE"
   ]
  },
  {
   "cell_type": "code",
   "execution_count": 9,
   "metadata": {},
   "outputs": [
    {
     "name": "stdout",
     "output_type": "stream",
     "text": [
      "(4, 2)\n",
      "(4, 1)\n"
     ]
    }
   ],
   "source": [
    "X = np.array([[0, 0], [0, 1], [1, 0], [1, 1]])\n",
    "Y = np.array([[0], [1], [1], [1]])\n",
    "print(X.shape)\n",
    "print(Y.shape)"
   ]
  },
  {
   "cell_type": "code",
   "execution_count": 10,
   "metadata": {},
   "outputs": [],
   "source": [
    "W = np.random.randn(2,1)\n",
    "B = np.random.randn(1,1)"
   ]
  },
  {
   "cell_type": "code",
   "execution_count": 11,
   "metadata": {},
   "outputs": [],
   "source": [
    "#import activation fuction\n",
    "def sigmoid(h):\n",
    " return 1/(1+np.exp(-h))"
   ]
  },
  {
   "cell_type": "code",
   "execution_count": 12,
   "metadata": {},
   "outputs": [],
   "source": [
    "#backpropagation\n",
    "def sigmoid_der(h):\n",
    "    return h*(1-h)"
   ]
  },
  {
   "cell_type": "code",
   "execution_count": 13,
   "metadata": {},
   "outputs": [
    {
     "name": "stdout",
     "output_type": "stream",
     "text": [
      "[[0.07949598]\n",
      " [0.95066524]\n",
      " [0.95065018]\n",
      " [0.9997674 ]]\n",
      "[[0.]\n",
      " [1.]\n",
      " [1.]\n",
      " [1.]]\n",
      "[[-2.16476557e-01 -2.84259039e-01 -3.32061694e-01 ... -7.96705987e-02\n",
      "  -7.95831552e-02 -7.94959849e-02]\n",
      " [ 5.95620792e-01  4.43450550e-01  3.52740416e-01 ...  4.94407983e-02\n",
      "   4.93876997e-02  4.93347641e-02]\n",
      " [ 6.57751097e-01  5.08563494e-01  4.10173793e-01 ...  4.94560169e-02\n",
      "   4.94028373e-02  4.93498214e-02]\n",
      " [ 4.38862639e-01  2.46689918e-01  1.58539271e-01 ...  2.34210456e-04\n",
      "   2.33402748e-04  2.32599498e-04]]\n"
     ]
    }
   ],
   "source": [
    "#forward propagation\n",
    "epoch=0\n",
    "loop=500\n",
    "all_error=np.zeros(shape=(4,loop),dtype=np.float64)\n",
    "all_error_avg=np.zeros(shape=(1,loop),dtype=np.float64)\n",
    "all_epoch=np.zeros(shape=(1,loop),dtype=np.float64)\n",
    "while(epoch<loop):\n",
    "    \n",
    "    a1=X\n",
    "    z2=np.dot(a1,W)+B\n",
    "    a2=sigmoid(z2)\n",
    "    #update weight and bias\n",
    "    error=Y-a2\n",
    "    all_error[:,epoch] += error[:,0]\n",
    "    all_error_avg[0,epoch]=np.sum(all_error[:,epoch])/4\n",
    "    epoch += 1\n",
    "    all_epoch[0,epoch-1]=epoch\n",
    "    delta_output=error*sigmoid_der(a2)\n",
    "    update=np.dot(np.transpose(a1),delta_output)\n",
    "    W=W+update\n",
    "    B=B+sum(delta_output)\n",
    "print(a2)\n",
    "prediction=(a2>0.5)*1.0\n",
    "print(prediction)\n",
    "print(all_error)"
   ]
  },
  {
   "cell_type": "code",
   "execution_count": 14,
   "metadata": {},
   "outputs": [
    {
     "data": {
      "image/png": "[encoded data removed]",
      "text/plain": [
       "<Figure size 432x288 with 1 Axes>"
      ]
     },
     "metadata": {
      "needs_background": "light"
     },
     "output_type": "display_data"
    }
   ],
   "source": [
    "plt.figure() \n",
    "plt.plot(all_epoch[0,:],all_error_avg[0,:]) \n",
    "plt.xlabel(\"EPOCHS\") \n",
    "plt.ylabel(\"error\") \n",
    "plt.show() "
   ]
  },
  {
   "cell_type": "markdown",
   "metadata": {},
   "source": [
    "# NAND GATE"
   ]
  },
  {
   "cell_type": "code",
   "execution_count": 15,
   "metadata": {},
   "outputs": [
    {
     "name": "stdout",
     "output_type": "stream",
     "text": [
      "(4, 2)\n",
      "(4, 1)\n"
     ]
    }
   ],
   "source": [
    "X = np.array([[0, 0], [0, 1], [1, 0], [1, 1]])\n",
    "Y = np.array([[1], [1], [1], [0]])\n",
    "print(X.shape)\n",
    "print(Y.shape)"
   ]
  },
  {
   "cell_type": "code",
   "execution_count": 16,
   "metadata": {},
   "outputs": [],
   "source": [
    "W = np.random.randn(2,1)\n",
    "B = np.random.randn(1,1)"
   ]
  },
  {
   "cell_type": "code",
   "execution_count": 17,
   "metadata": {},
   "outputs": [],
   "source": [
    "#import activation fuction\n",
    "def sigmoid(h):\n",
    " return 1/(1+np.exp(-h))"
   ]
  },
  {
   "cell_type": "code",
   "execution_count": 18,
   "metadata": {},
   "outputs": [],
   "source": [
    "#backpropagation\n",
    "def sigmoid_der(h):\n",
    "    return h*(1-h)"
   ]
  },
  {
   "cell_type": "code",
   "execution_count": 19,
   "metadata": {},
   "outputs": [
    {
     "name": "stdout",
     "output_type": "stream",
     "text": [
      "[[0.99912083]\n",
      " [0.91760414]\n",
      " [0.91760409]\n",
      " [0.09839502]]\n",
      "[[1.]\n",
      " [1.]\n",
      " [1.]\n",
      " [0.]]\n",
      "[[ 0.71645705  0.66299333  0.60882743 ...  0.00088578  0.00088247\n",
      "   0.00087917]\n",
      " [ 0.41106239  0.36024578  0.32130481 ...  0.08258294  0.08248925\n",
      "   0.08239586]\n",
      " [ 0.75162524  0.70093914  0.64893969 ...  0.08258298  0.0824893\n",
      "   0.08239591]\n",
      " [-0.54468813 -0.59849202 -0.64009723 ... -0.09862086 -0.09850776\n",
      "  -0.09839502]]\n"
     ]
    }
   ],
   "source": [
    "#forward propagation\n",
    "epoch=0\n",
    "loop=500\n",
    "all_error=np.zeros(shape=(4,loop),dtype=np.float64)\n",
    "all_error_avg=np.zeros(shape=(1,loop),dtype=np.float64)\n",
    "all_epoch=np.zeros(shape=(1,loop),dtype=np.float64)\n",
    "while(epoch<loop):\n",
    "    \n",
    "    a1=X\n",
    "    z2=np.dot(a1,W)+B\n",
    "    a2=sigmoid(z2)\n",
    "    #update weight and bias\n",
    "    error=Y-a2\n",
    "    all_error[:,epoch] += error[:,0]\n",
    "    all_error_avg[0,epoch]=np.sum(all_error[:,epoch])/4\n",
    "    epoch += 1\n",
    "    all_epoch[0,epoch-1]=epoch\n",
    "    delta_output=error*sigmoid_der(a2)\n",
    "    update=np.dot(np.transpose(a1),delta_output)\n",
    "    W=W+update\n",
    "    B=B+sum(delta_output)\n",
    "print(a2)\n",
    "prediction=(a2>0.5)*1.0\n",
    "print(prediction)\n",
    "print(all_error)"
   ]
  },
  {
   "cell_type": "code",
   "execution_count": 20,
   "metadata": {},
   "outputs": [
    {
     "data": {
      "image/png": "[encoded data removed]",
      "text/plain": [
       "<Figure size 432x288 with 1 Axes>"
      ]
     },
     "metadata": {
      "needs_background": "light"
     },
     "output_type": "display_data"
    }
   ],
   "source": [
    "plt.figure() \n",
    "plt.plot(all_epoch[0,:],all_error_avg[0,:]) \n",
    "plt.xlabel(\"EPOCHS\") \n",
    "plt.ylabel(\"error\") \n",
    "plt.show() "
   ]
  },
  {
   "cell_type": "markdown",
   "metadata": {},
   "source": [
    "# NOR GATE"
   ]
  },
  {
   "cell_type": "code",
   "execution_count": 21,
   "metadata": {},
   "outputs": [
    {
     "name": "stdout",
     "output_type": "stream",
     "text": [
      "(4, 2)\n",
      "(4, 1)\n"
     ]
    }
   ],
   "source": [
    "X = np.array([[0, 0], [0, 1], [1, 0], [1, 1]])\n",
    "Y = np.array([[1], [0], [0], [0]])\n",
    "print(X.shape)\n",
    "print(Y.shape)"
   ]
  },
  {
   "cell_type": "code",
   "execution_count": 22,
   "metadata": {},
   "outputs": [],
   "source": [
    "W = np.random.randn(2,1)\n",
    "B = np.random.randn(1,1)"
   ]
  },
  {
   "cell_type": "code",
   "execution_count": 23,
   "metadata": {},
   "outputs": [],
   "source": [
    "#import activation fuction\n",
    "def sigmoid(h):\n",
    " return 1/(1+np.exp(-h))"
   ]
  },
  {
   "cell_type": "code",
   "execution_count": 24,
   "metadata": {},
   "outputs": [],
   "source": [
    "#backpropagation\n",
    "def sigmoid_der(h):\n",
    "    return h*(1-h)"
   ]
  },
  {
   "cell_type": "code",
   "execution_count": 25,
   "metadata": {},
   "outputs": [
    {
     "name": "stdout",
     "output_type": "stream",
     "text": [
      "[[9.19848797e-01]\n",
      " [4.96952248e-02]\n",
      " [4.97855293e-02]\n",
      " [2.38683924e-04]]\n",
      "[[1.]\n",
      " [0.]\n",
      " [0.]\n",
      " [0.]]\n",
      "[[ 1.80138866e-01  2.31334316e-01  2.96580283e-01 ...  8.03299629e-02\n",
      "   8.02404412e-02  8.01512035e-02]\n",
      " [-6.58388998e-01 -5.17975184e-01 -3.67575967e-01 ... -4.98033250e-02\n",
      "  -4.97491910e-02 -4.96952248e-02]\n",
      " [-9.14297064e-01 -8.65240369e-01 -7.81322969e-01 ... -4.98946114e-02\n",
      "  -4.98399846e-02 -4.97855293e-02]\n",
      " [-8.18762357e-01 -6.74948814e-01 -4.66830487e-01 ... -2.40363115e-04\n",
      "  -2.39521161e-04 -2.38683924e-04]]\n"
     ]
    }
   ],
   "source": [
    "#forward propagation\n",
    "epoch=0\n",
    "loop=500\n",
    "all_error=np.zeros(shape=(4,loop),dtype=np.float64)\n",
    "all_error_avg=np.zeros(shape=(1,loop),dtype=np.float64)\n",
    "all_epoch=np.zeros(shape=(1,loop),dtype=np.float64)\n",
    "while(epoch<loop):\n",
    "    \n",
    "    a1=X\n",
    "    z2=np.dot(a1,W)+B\n",
    "    a2=sigmoid(z2)\n",
    "    #update weight and bias\n",
    "    error=Y-a2\n",
    "    all_error[:,epoch] += error[:,0]\n",
    "    all_error_avg[0,epoch]=np.sum(all_error[:,epoch])/4\n",
    "    epoch += 1\n",
    "    all_epoch[0,epoch-1]=epoch\n",
    "    delta_output=error*sigmoid_der(a2)\n",
    "    update=np.dot(np.transpose(a1),delta_output)\n",
    "    W=W+update\n",
    "    B=B+sum(delta_output)\n",
    "print(a2)\n",
    "prediction=(a2>0.5)*1.0\n",
    "print(prediction)\n",
    "print(all_error)"
   ]
  },
  {
   "cell_type": "code",
   "execution_count": 26,
   "metadata": {},
   "outputs": [
    {
     "data": {
      "image/png": "[encoded data removed]",
      "text/plain": [
       "<Figure size 432x288 with 1 Axes>"
      ]
     },
     "metadata": {
      "needs_background": "light"
     },
     "output_type": "display_data"
    }
   ],
   "source": [
    "plt.figure() \n",
    "plt.plot(all_epoch[0,:],all_error_avg[0,:]) \n",
    "plt.xlabel(\"EPOCHS\") \n",
    "plt.ylabel(\"error\") \n",
    "plt.show() "
   ]
  },
  {
   "cell_type": "markdown",
   "metadata": {},
   "source": [
    "# XOR"
   ]
  },
  {
   "cell_type": "code",
   "execution_count": 27,
   "metadata": {},
   "outputs": [
    {
     "name": "stdout",
     "output_type": "stream",
     "text": [
      "(4, 2)\n",
      "(4, 1)\n"
     ]
    }
   ],
   "source": [
    "X = np.array([[0, 0], [0, 1], [1, 0], [1, 1]])\n",
    "Y = np.array([[0], [1], [1], [0]])\n",
    "print(X.shape)\n",
    "print(Y.shape)"
   ]
  },
  {
   "cell_type": "code",
   "execution_count": 28,
   "metadata": {},
   "outputs": [],
   "source": [
    "Wh = np.random.randn(2,2)\n",
    "Bh = np.random.randn(1,2)\n",
    "Wo=np.random.randn(2,1)\n",
    "Bo=np.random.randn(1,1)"
   ]
  },
  {
   "cell_type": "code",
   "execution_count": 29,
   "metadata": {},
   "outputs": [],
   "source": [
    "#import activation fuction\n",
    "def sigmoid(h):\n",
    " return 1/(1+np.exp(-h))"
   ]
  },
  {
   "cell_type": "code",
   "execution_count": 30,
   "metadata": {},
   "outputs": [],
   "source": [
    "#backpropagation\n",
    "def sigmoid_der(h):\n",
    "    return h*(1-h)"
   ]
  },
  {
   "cell_type": "code",
   "execution_count": 31,
   "metadata": {},
   "outputs": [
    {
     "name": "stdout",
     "output_type": "stream",
     "text": [
      "[[0.08740574]\n",
      " [0.88546455]\n",
      " [0.88511495]\n",
      " [0.12304678]]\n",
      "[[0.]\n",
      " [1.]\n",
      " [1.]\n",
      " [0.]]\n",
      "[[-0.26095571 -0.32489645 -0.38108447 ... -0.08786647 -0.08763534\n",
      "  -0.08740574]\n",
      " [ 0.75914455  0.69418877  0.63614229 ...  0.11527389  0.11490317\n",
      "   0.11453545]\n",
      " [ 0.70387368  0.63715945  0.58008099 ...  0.11562593  0.11525399\n",
      "   0.11488505]\n",
      " [-0.27360818 -0.34073207 -0.39924465 ... -0.12393886 -0.12349086\n",
      "  -0.12304678]]\n"
     ]
    }
   ],
   "source": [
    "epoch=0\n",
    "loop=500\n",
    "all_error=np.zeros(shape=(4,loop),dtype=np.float64)\n",
    "all_error_avg=np.zeros(shape=(1,loop),dtype=np.float64)\n",
    "all_epoch=np.zeros(shape=(1,loop),dtype=np.float64)\n",
    "while(epoch<loop):\n",
    "    \n",
    "    a1=X\n",
    "    z2=np.dot(a1,Wh)+Bh\n",
    "    a2=sigmoid(z2)\n",
    "    z3=np.dot(a2,Wo)+Bo\n",
    "    a3=sigmoid(z3)\n",
    "    #update weight and bias\n",
    "    error=Y-a3\n",
    "    all_error[:,epoch] += error[:,0]\n",
    "    all_error_avg[0,epoch]=np.sum(all_error[:,epoch])/4\n",
    "    epoch += 1\n",
    "    all_epoch[0,epoch-1]=epoch\n",
    "    delta_output=error*sigmoid_der(a3)\n",
    "    output_update=np.dot(np.transpose(a2),delta_output)\n",
    "    #Error of hidden layer\n",
    "    error_h=np.dot(delta_output,(np.transpose(Wo)))\n",
    "    delta_hidden=error_h*sigmoid_der(a2)\n",
    "    hidden_update=np.dot(np.transpose(a1),delta_hidden)\n",
    "    #update weight and bias of output layer\n",
    "    Wo = Wo+output_update\n",
    "    Bo= Bo+sum(delta_output)\n",
    "    #update weight and bias of hidden layer\n",
    "    Wh= Wh+ hidden_update\n",
    "    Bh=Bh+sum(delta_hidden)\n",
    "    \n",
    "print(a3)\n",
    "prediction=(a3>0.5)*1.0\n",
    "print(prediction)\n",
    "print(all_error)"
   ]
  },
  {
   "cell_type": "code",
   "execution_count": 32,
   "metadata": {},
   "outputs": [
    {
     "data": {
      "image/png": "[encoded data removed]",
      "text/plain": [
       "<Figure size 432x288 with 1 Axes>"
      ]
     },
     "metadata": {
      "needs_background": "light"
     },
     "output_type": "display_data"
    }
   ],
   "source": [
    "plt.figure() \n",
    "plt.plot(all_epoch[0,:],all_error_avg[0,:]) \n",
    "plt.xlabel(\"EPOCHS\") \n",
    "plt.ylabel(\"error\") \n",
    "plt.show() "
   ]
  },
  {
   "cell_type": "markdown",
   "metadata": {},
   "source": [
    "# EX-NOR"
   ]
  },
  {
   "cell_type": "code",
   "execution_count": 33,
   "metadata": {},
   "outputs": [
    {
     "name": "stdout",
     "output_type": "stream",
     "text": [
      "(4, 2)\n",
      "(4, 1)\n"
     ]
    }
   ],
   "source": [
    "X = np.array([[0, 0], [0, 1], [1, 0], [1, 1]])\n",
    "Y = np.array([[1], [0], [0], [1]])\n",
    "print(X.shape)\n",
    "print(Y.shape)"
   ]
  },
  {
   "cell_type": "code",
   "execution_count": 34,
   "metadata": {},
   "outputs": [],
   "source": [
    "Wh = np.random.randn(2,2)\n",
    "Bh = np.random.randn(1,2)\n",
    "Wo=np.random.randn(2,1)\n",
    "Bo=np.random.randn(1,1)"
   ]
  },
  {
   "cell_type": "code",
   "execution_count": 35,
   "metadata": {},
   "outputs": [],
   "source": [
    "#import activation fuction\n",
    "def sigmoid(h):\n",
    " return 1/(1+np.exp(-h))"
   ]
  },
  {
   "cell_type": "code",
   "execution_count": 36,
   "metadata": {},
   "outputs": [],
   "source": [
    "#backpropagation\n",
    "def sigmoid_der(h):\n",
    "    return h*(1-h)"
   ]
  },
  {
   "cell_type": "code",
   "execution_count": 37,
   "metadata": {},
   "outputs": [
    {
     "name": "stdout",
     "output_type": "stream",
     "text": [
      "[[0.9035705 ]\n",
      " [0.09820004]\n",
      " [0.50999783]\n",
      " [0.4888873 ]]\n",
      "[[1.]\n",
      " [0.]\n",
      " [1.]\n",
      " [0.]]\n",
      "[[ 0.27976052  0.35446168  0.41818925 ...  0.09693826  0.09668304\n",
      "   0.0964295 ]\n",
      " [-0.70655704 -0.63154195 -0.56828104 ... -0.09869627 -0.09844737\n",
      "  -0.09820004]\n",
      " [-0.7625278  -0.68283323 -0.61186603 ... -0.51007828 -0.51003791\n",
      "  -0.50999783]\n",
      " [ 0.25091565  0.33111085  0.40141551 ...  0.51119138  0.51115192\n",
      "   0.5111127 ]]\n"
     ]
    }
   ],
   "source": [
    "epoch=0\n",
    "loop=500\n",
    "all_error=np.zeros(shape=(4,loop),dtype=np.float64)\n",
    "all_error_avg=np.zeros(shape=(1,loop),dtype=np.float64)\n",
    "all_epoch=np.zeros(shape=(1,loop),dtype=np.float64)\n",
    "while(epoch<loop):\n",
    "    \n",
    "    a1=X\n",
    "    z2=np.dot(a1,Wh)+Bh\n",
    "    a2=sigmoid(z2)\n",
    "    z3=np.dot(a2,Wo)+Bo\n",
    "    a3=sigmoid(z3)\n",
    "    #update weight and bias\n",
    "    error=Y-a3\n",
    "    all_error[:,epoch] += error[:,0]\n",
    "    all_error_avg[0,epoch]=np.sum(all_error[:,epoch])/4\n",
    "    epoch += 1\n",
    "    all_epoch[0,epoch-1]=epoch\n",
    "    delta_output=error*sigmoid_der(a3)\n",
    "    output_update=np.dot(np.transpose(a2),delta_output)\n",
    "    #Error of hidden layer\n",
    "    error_h=np.dot(delta_output,(np.transpose(Wo)))\n",
    "    delta_hidden=error_h*sigmoid_der(a2)\n",
    "    hidden_update=np.dot(np.transpose(a1),delta_hidden)\n",
    "    #update weight and bayes of output layer\n",
    "    Wo = Wo+output_update\n",
    "    Bo= Bo+sum(delta_output)\n",
    "    #update weight and bias of hidden layer\n",
    "    Wh= Wh+ hidden_update\n",
    "    Bh=Bh+sum(delta_hidden)\n",
    "    \n",
    "print(a3)\n",
    "prediction=(a3>0.5)*1.0\n",
    "print(prediction)\n",
    "print(all_error)"
   ]
  },
  {
   "cell_type": "code",
   "execution_count": 38,
   "metadata": {},
   "outputs": [
    {
     "data": {
      "image/png": "[encoded data removed]",
      "text/plain": [
       "<Figure size 432x288 with 1 Axes>"
      ]
     },
     "metadata": {
      "needs_background": "light"
     },
     "output_type": "display_data"
    }
   ],
   "source": [
    "plt.figure() \n",
    "plt.plot(all_epoch[0,:],all_error_avg[0,:]) \n",
    "plt.xlabel(\"EPOCHS\") \n",
    "plt.ylabel(\"error\") \n",
    "plt.show() "
   ]
  },
  {
   "cell_type": "code",
   "execution_count": null,
   "metadata": {},
   "outputs": [],
   "source": []
  }
 ],
 "metadata": {
  "kernelspec": {
   "display_name": "Python 3 (ipykernel)",
   "language": "python",
   "name": "python3"
  },
  "language_info": {
   "codemirror_mode": {
    "name": "ipython",
    "version": 3
   },
   "file_extension": ".py",
   "mimetype": "text/x-python",
   "name": "python",
   "nbconvert_exporter": "python",
   "pygments_lexer": "ipython3",
   "version": "3.10.3"
  }
 },
 "nbformat": 4,
 "nbformat_minor": 4
}
